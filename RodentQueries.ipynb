{
 "metadata": {
  "name": "RodentQueries"
 },
 "nbformat": 3,
 "nbformat_minor": 0,
 "worksheets": [
  {
   "cells": [
    {
     "cell_type": "code",
     "collapsed": false,
     "input": [
      "import numpy as np\n",
      "import csv\n",
      "import pymysql; pymysql.install_as_MySQLdb()\n",
      "import MySQLdb as dbapi"
     ],
     "language": "python",
     "metadata": {},
     "outputs": [],
     "prompt_number": 1
    },
    {
     "cell_type": "code",
     "collapsed": false,
     "input": [
      "me = \"\"\n",
      "mypasswd = \"\""
     ],
     "language": "python",
     "metadata": {},
     "outputs": [],
     "prompt_number": 2
    },
    {
     "cell_type": "code",
     "collapsed": false,
     "input": [
      "db = dbapi.connect( host = 'serenity.bluezone.usu.edu', \n",
      "                    port = 1977, passwd = mypasswd, user = me, db = 'Portal')\n",
      "\n",
      "cur = db.cursor()"
     ],
     "language": "python",
     "metadata": {},
     "outputs": [],
     "prompt_number": 16
    },
    {
     "cell_type": "code",
     "collapsed": false,
     "input": [
      "cur.execute(\"\"\"SELECT Rodents.* \n",
      "               FROM Rodents \n",
      "               WHERE Rodents.yr > 1999 AND Rodents.yr < 2010\"\"\")\n",
      "\n",
      "rodents10yr = cur.fetchall()\n",
      "print len(rodents10yr)\n",
      "print rodents[1]"
     ],
     "language": "python",
     "metadata": {},
     "outputs": [
      {
       "output_type": "stream",
       "stream": "stdout",
       "text": [
        "22436\n",
        "(30160L, 1.0, 8.0, 2000.0, 261.0, 1.0, None, 56.0, 'DO', 'M', None, None, 'R', None, None, None, None, 35.0, 53.0, '184', '*', '0', None, '0', '0', None, None, 'TE', None)\n"
       ]
      }
     ],
     "prompt_number": 19
    },
    {
     "cell_type": "code",
     "collapsed": false,
     "input": [
      "cur.execute(\"\"\"SELECT Rodents.* \n",
      "               FROM Rodents \n",
      "               WHERE Rodents.yr > 1979 AND Rodents.yr < 2010\"\"\")\n",
      "\n",
      "rodents30yr = cur.fetchall()\n",
      "print len(rodents30yr)"
     ],
     "language": "python",
     "metadata": {},
     "outputs": [
      {
       "output_type": "stream",
       "stream": "stdout",
       "text": [
        "50324\n"
       ]
      }
     ],
     "prompt_number": 18
    },
    {
     "cell_type": "code",
     "collapsed": false,
     "input": [
      "cur.close()"
     ],
     "language": "python",
     "metadata": {},
     "outputs": []
    },
    {
     "cell_type": "raw",
     "metadata": {},
     "source": [
      "db = pymysql.connect( host = 'serenity.bluezone.usu.edu',\n",
      "      port = 1995, passwd = yourpassword, user = user, db='Rodents')\n",
      "\n",
      "cursor = db.cursor()\n",
      "sql = \"INSERT INTO people (name, email, age) VALUES (%s, %s, %s)\"\n",
      "cursor.execute( sql, ( \"Jay\", \"jay@example.com\", '77') )\n",
      "cursor.close()\n",
      "db.commit()   #Makes sure the DB saves your changes!\n",
      "\n",
      "\n",
      "        \n",
      "con = dbapi.connect(host = 'serenity.bluezone.usu.edu',\n",
      "                    port = 1995,\n",
      "                    user = user,\n",
      "                    passwd = yourpassword)\n",
      "\n",
      "cur = con.cursor()"
     ]
    }
   ],
   "metadata": {}
  }
 ]
}