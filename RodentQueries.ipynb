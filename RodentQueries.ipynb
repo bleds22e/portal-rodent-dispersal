{
 "metadata": {
  "name": "RodentQueries"
 },
 "nbformat": 3,
 "nbformat_minor": 0,
 "worksheets": [
  {
   "cells": [
    {
     "cell_type": "code",
     "collapsed": false,
     "input": [
      "import numpy as np\n",
      "import csv\n",
      "import pymysql; pymysql.install_as_MySQLdb()\n",
      "import MySQLdb as dbapi"
     ],
     "language": "python",
     "metadata": {},
     "outputs": [],
     "prompt_number": 1
    },
    {
     "cell_type": "code",
     "collapsed": false,
     "input": [
      "me = \"\"\n",
      "mypasswd = \"\""
     ],
     "language": "python",
     "metadata": {},
     "outputs": [],
     "prompt_number": 2
    },
    {
     "cell_type": "code",
     "collapsed": false,
     "input": [
      "db = dbapi.connect( host = 'serenity.bluezone.usu.edu', \n",
      "                    port = 1977, passwd = mypasswd, user = me, db = 'Portal')\n",
      "\n",
      "cur = db.cursor()"
     ],
     "language": "python",
     "metadata": {},
     "outputs": [],
     "prompt_number": 16
    },
    {
     "cell_type": "heading",
     "level": 3,
     "metadata": {},
     "source": [
      "This tells us what tables are available in the Portal Database"
     ]
    },
    {
     "cell_type": "code",
     "collapsed": false,
     "input": [
      "cur.execute(\"SHOW TABLES FROM Portal\")\n",
      "tables = cur.fetchall()\n",
      "print tables\n",
      "\n"
     ],
     "language": "python",
     "metadata": {},
     "outputs": [
      {
       "output_type": "stream",
       "stream": "stdout",
       "text": [
        "(('Daily_PPT_1980_89',), ('Hourly_PPT_mm_1989_present',), ('Periods_Old',), ('Plant Species List',), ('Plots',), ('Rain_Gauge_Data_mm',), ('Rodents',), ('SPECIES',), ('Seasons',), ('Summer Annual Quadrats',), ('Summer Biomass',), ('Winter Annual Quadrats',), ('Winter Biomass',))\n"
       ]
      }
     ],
     "prompt_number": 35
    },
    {
     "cell_type": "heading",
     "level": 3,
     "metadata": {},
     "source": [
      "This code tells us what columns are available in each table that we are interested in:"
     ]
    },
    {
     "cell_type": "code",
     "collapsed": false,
     "input": [
      "cur.execute(\"SHOW COLUMNS FROM Rodents\")\n",
      "rcols= cur.fetchall()\n",
      "print \"Rodents\"\n",
      "print rcols\n",
      "print \"\"\n",
      "\n",
      "cur.execute(\"SHOW COLUMNS FROM SPECIES\")\n",
      "spcols = cur.fetchall()\n",
      "print \"SPECIES\"\n",
      "print spcols\n",
      "print \"\"\n",
      "\n",
      "cur.execute(\"SHOW COLUMNS FROM Plots\")\n",
      "pltcols = cur.fetchall()\n",
      "print \"Plots\"\n",
      "print pltcols\n",
      "\n"
     ],
     "language": "python",
     "metadata": {},
     "outputs": [
      {
       "output_type": "stream",
       "stream": "stdout",
       "text": [
        "Rodents\n",
        "(('Record_ID', 'int(10)', 'NO', 'PRI', None, 'auto_increment'), ('mo', 'double', 'YES', '', None, ''), ('dy', 'double', 'YES', '', None, ''), ('yr', 'double', 'YES', '', None, ''), ('period', 'double', 'YES', '', None, ''), ('plot', 'double', 'YES', '', None, ''), ('note1', 'double', 'YES', '', None, ''), ('stake', 'double', 'YES', '', None, ''), ('species', 'varchar(255)', 'YES', '', None, ''), ('sex', 'varchar(255)', 'YES', '', None, ''), ('age', 'varchar(255)', 'YES', '', None, ''), ('reprod', 'varchar(255)', 'YES', '', None, ''), ('testes', 'varchar(255)', 'YES', '', None, ''), ('vagina', 'varchar(255)', 'YES', '', None, ''), ('pregnant', 'varchar(255)', 'YES', '', None, ''), ('nipples', 'varchar(255)', 'YES', '', None, ''), ('lactation', 'varchar(255)', 'YES', '', None, ''), ('hfl', 'double', 'YES', '', None, ''), ('wgt', 'double', 'YES', '', None, ''), ('tag', 'varchar(255)', 'YES', '', None, ''), ('note2', 'varchar(255)', 'YES', '', None, ''), ('ltag', 'varchar(255)', 'YES', '', None, ''), ('note3', 'varchar(255)', 'YES', '', None, ''), ('prevrt', 'varchar(255)', 'YES', '', None, ''), ('prevlet', 'varchar(255)', 'YES', '', None, ''), ('nestdir', 'varchar(255)', 'YES', '', None, ''), ('neststk', 'double', 'YES', '', None, ''), ('note4', 'varchar(255)', 'YES', '', None, ''), ('note5', 'varchar(255)', 'YES', '', None, ''))\n",
        "\n",
        "SPECIES\n",
        "(('New Code', 'varchar(255)', 'NO', '', None, ''), ('OldCode', 'varchar(255)', 'YES', '', None, ''), ('ScientificName', 'varchar(255)', 'YES', '', None, ''), ('Taxa', 'varchar(255)', 'YES', '', None, ''), ('CommonName', 'varchar(255)', 'YES', '', None, ''), ('Unknown', 'tinyint(4)', 'YES', '', '0', ''), ('Rodent', 'tinyint(4)', 'YES', '', '0', ''), ('Shrubland-affiliated', 'int(11)', 'YES', '', '0', ''))\n",
        "\n",
        "Plots"
       ]
      },
      {
       "output_type": "stream",
       "stream": "stdout",
       "text": [
        "\n",
        "(('Plot Number', 'tinyint(4)', 'NO', '', '0', ''), ('Type Code', 'varchar(2)', 'YES', '', None, ''), ('Type Number', 'tinyint(4)', 'YES', '', '0', ''), ('Type Description', 'varchar(50)', 'YES', '', None, ''))\n"
       ]
      }
     ],
     "prompt_number": 36
    },
    {
     "cell_type": "heading",
     "level": 3,
     "metadata": {},
     "source": [
      "Now, we can grab the data that we are interested in:"
     ]
    },
    {
     "cell_type": "code",
     "collapsed": false,
     "input": [
      "cur.execute(\"\"\"SELECT Rodents.yr, Rodents.mo, Rodents.period, Rodents.plot, Rodents.stake, \n",
      "                      Rodents.species, Rodents.sex, Rodents.reprod, Rodents.vagina, Rodents.nipples,\n",
      "                      Rodents.pregnant, Rodents.wgt, Rodents.tag, Rodents.note2, Rodents.ltag, Rodents.note3,\n",
      "                      Rodents.note5\n",
      "               FROM Rodents \n",
      "               WHERE Rodents.yr > 1999 AND Rodents.yr < 2010\"\"\")\n",
      "\n",
      "rodents10yr = cur.fetchall()\n",
      "print len(rodents10yr)\n",
      "print rodents10yr[1]"
     ],
     "language": "python",
     "metadata": {},
     "outputs": [
      {
       "output_type": "stream",
       "stream": "stdout",
       "text": [
        "22436\n",
        "(2000.0, 1.0, 261.0, 1.0, 56.0, 'DO', 'M', None, None, None, None, 53.0, '184', '*', '0', None, None)\n"
       ]
      }
     ],
     "prompt_number": 27
    },
    {
     "cell_type": "code",
     "collapsed": false,
     "input": [
      "cur.execute(\"\"\"SELECT Rodents.yr, Rodents.mo, Rodents.period, Rodents.plot, Rodents.stake, \n",
      "                      Rodents.species, Rodents.sex, Rodents.reprod, Rodents.vagina, Rodents.nipples,\n",
      "                      Rodents.pregnant, Rodents.wgt, Rodents.tag, Rodents.note2, Rodents.ltag, Rodents.note3,\n",
      "                      Rodents.note5\n",
      "               FROM Rodents \n",
      "               WHERE Rodents.yr > 1979 AND Rodents.yr < 2010\"\"\")\n",
      "\n",
      "rodents30yr = cur.fetchall()\n",
      "print len(rodents30yr)"
     ],
     "language": "python",
     "metadata": {},
     "outputs": [
      {
       "output_type": "stream",
       "stream": "stdout",
       "text": [
        "50324\n"
       ]
      }
     ],
     "prompt_number": 18
    },
    {
     "cell_type": "code",
     "collapsed": false,
     "input": [
      "cur.close()"
     ],
     "language": "python",
     "metadata": {},
     "outputs": []
    }
   ],
   "metadata": {}
  }
 ]
}