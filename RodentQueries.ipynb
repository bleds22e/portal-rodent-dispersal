{
 "metadata": {
  "name": "RodentQueries"
 },
 "nbformat": 3,
 "nbformat_minor": 0,
 "worksheets": [
  {
   "cells": [
    {
     "cell_type": "code",
     "collapsed": false,
     "input": [
      "import numpy as np\n",
      "import csv\n",
      "import MySQLdb as dbapi"
     ],
     "language": "python",
     "metadata": {},
     "outputs": [
      {
       "ename": "ImportError",
       "evalue": "No module named MySQLdb",
       "output_type": "pyerr",
       "traceback": [
        "\u001b[0;31m---------------------------------------------------------------------------\u001b[0m\n\u001b[0;31mImportError\u001b[0m                               Traceback (most recent call last)",
        "\u001b[0;32m<ipython-input-1-5b6054edddab>\u001b[0m in \u001b[0;36m<module>\u001b[0;34m()\u001b[0m\n\u001b[1;32m      1\u001b[0m \u001b[0;32mimport\u001b[0m \u001b[0mnumpy\u001b[0m \u001b[0;32mas\u001b[0m \u001b[0mnp\u001b[0m\u001b[0;34m\u001b[0m\u001b[0m\n\u001b[1;32m      2\u001b[0m \u001b[0;32mimport\u001b[0m \u001b[0mcsv\u001b[0m\u001b[0;34m\u001b[0m\u001b[0m\n\u001b[0;32m----> 3\u001b[0;31m \u001b[0;32mimport\u001b[0m \u001b[0mMySQLdb\u001b[0m \u001b[0;32mas\u001b[0m \u001b[0mdbapi\u001b[0m\u001b[0;34m\u001b[0m\u001b[0m\n\u001b[0m\u001b[1;32m      4\u001b[0m \u001b[0;34m\u001b[0m\u001b[0m\n\u001b[1;32m      5\u001b[0m \u001b[0;32mprint\u001b[0m \u001b[0;34m\"run\"\u001b[0m\u001b[0;34m\u001b[0m\u001b[0m\n",
        "\u001b[0;31mImportError\u001b[0m: No module named MySQLdb"
       ]
      }
     ],
     "prompt_number": 1
    },
    {
     "cell_type": "code",
     "collapsed": false,
     "input": [
      "#Connect to database server\n",
      "\n",
      "user = input('What is your username?: ')\n",
      "yourpassword = input('Please enter your password: ')\n",
      "        \n",
      "con = dbapi.connect(host = 'serenity.bluezone.usu.edu',\n",
      "                    port = 1995,\n",
      "                    user = user,\n",
      "                    passwd = yourpassword)\n",
      "\n",
      "cur = con.cursor()"
     ],
     "language": "python",
     "metadata": {},
     "outputs": []
    },
    {
     "cell_type": "code",
     "collapsed": false,
     "input": [
      "#Rodents from 2000-2009 (10 YEAR TIME SERIES)\n",
      "\n",
      "cur.execute(\"\"\"SELECT Rodents.* \n",
      "               FROM Portal.Rodents \n",
      "               WHERE Rodents.yr > 1999 AND Rodents.yr < 2010\"\"\")\n",
      "Rodents2000_2009 = cur.fetchall()\n",
      "\n"
     ],
     "language": "python",
     "metadata": {},
     "outputs": []
    },
    {
     "cell_type": "code",
     "collapsed": false,
     "input": [
      "#Rodents from 1980-2009 (30 YEAR TIME SERIES)\n",
      "cur.execute(\"\"\"SELECT Rodents.* \n",
      "               FROM Portal.Rodents \n",
      "               WHERE Rodents.yr > 1979 AND Rodents.yr < 2010\"\"\")\n",
      "Rodents1980_2009 = cur.fetchall()"
     ],
     "language": "python",
     "metadata": {},
     "outputs": []
    }
   ],
   "metadata": {}
  }
 ]
}